{
  "nbformat": 4,
  "nbformat_minor": 0,
  "metadata": {
    "colab": {
      "name": "tulio_hw0.ipynb",
      "version": "0.3.2",
      "provenance": []
    },
    "kernelspec": {
      "name": "python3",
      "display_name": "Python 3"
    }
  },
  "cells": [
    {
      "cell_type": "markdown",
      "metadata": {
        "id": "Tn59HwBNtgAr",
        "colab_type": "text"
      },
      "source": [
        "<a href=\"https://colab.research.google.com/github/mottaquikarim/PYTH2/blob/master/src/PSETS/nb/basic_data_inclass_psets.ipynb\" target=\"_parent\"><img src=\"https://colab.research.google.com/assets/colab-badge.svg\" alt=\"Open In Colab\"/></a>"
      ]
    },
    {
      "cell_type": "markdown",
      "metadata": {
        "id": "AFxgkUU-tgAu",
        "colab_type": "text"
      },
      "source": [
        "#  BASIC DATA TYPES\n",
        "\n",
        "## BASICS\n",
        "\n",
        "### P1.PY\n",
        "\n",
        "\n"
      ]
    },
    {
      "cell_type": "code",
      "metadata": {
        "id": "55_ORCrXtgAv",
        "colab_type": "code",
        "colab": {}
      },
      "source": [
        "\"\"\"\n",
        "Placeholders\n",
        "\"\"\"\n",
        "x = \"placeholder\"\n",
        "\n",
        "\n",
        "# You're writing a program, and you don't know what your starting value for your 'initial' variable is yet. \n",
        "#The program won't run if you leave it blank, but you don't want to forget you need it! Make a workaround.\n",
        "\n"
      ],
      "execution_count": 0,
      "outputs": []
    },
    {
      "cell_type": "markdown",
      "metadata": {
        "id": "9Cmaav74tgAy",
        "colab_type": "text"
      },
      "source": [
        "\n",
        "\n",
        "### P2.PY\n",
        "\n",
        "\n"
      ]
    },
    {
      "cell_type": "code",
      "metadata": {
        "id": "4sYD9qkftgAz",
        "colab_type": "code",
        "colab": {
          "base_uri": "https://localhost:8080/",
          "height": 51
        },
        "outputId": "849ab9cb-eb08-43ae-cf0c-f5ddbb847af2"
      },
      "source": [
        "\"\"\"\n",
        "Basic Variables\n",
        "\"\"\"\n",
        "# x is your favorite number\n",
        "x = 3 \n",
        "print(x)\n",
        "\n",
        "# Create a variable that represents your favorite number, and add a note to remind yourself what this variable represents. \n",
        "#Now print it out without re-typing the number.\n",
        "\n",
        "#fave_color is your favorite color\n",
        "fave_color = \"blue\"\n",
        "\n",
        "print(fave_color)\n",
        "# Create another variable that represents your favorite color, and do the same steps as above.\n",
        "\n"
      ],
      "execution_count": 5,
      "outputs": [
        {
          "output_type": "stream",
          "text": [
            "3\n",
            "blue\n"
          ],
          "name": "stdout"
        }
      ]
    },
    {
      "cell_type": "markdown",
      "metadata": {
        "id": "Y1v2Nt-RtgA1",
        "colab_type": "text"
      },
      "source": [
        "\n",
        "\n",
        "### P3.PY\n",
        "\n",
        "\n"
      ]
    },
    {
      "cell_type": "code",
      "metadata": {
        "id": "Mx92k0ritgA2",
        "colab_type": "code",
        "colab": {
          "base_uri": "https://localhost:8080/",
          "height": 85
        },
        "outputId": "61070861-0822-4216-be53-004af08e6b08"
      },
      "source": [
        "\"\"\"\n",
        "String Formatting\n",
        "\"\"\"\n",
        "#Bohemian Rhapsody\n",
        "#Queen\n",
        "\n",
        "bohemian = \"Is this the real life? \\n Is this just fantasy? \\n caught in a landslide \\n no escape from reality\"\n",
        "\n",
        "print(bohemian)\n",
        "\n",
        "# Create a variable that contains the first 4 lines of your favorite song. \n",
        "#Add a comment that includes the song title and artist **each on their own line**! Now print out this variable.\n",
        "\n"
      ],
      "execution_count": 6,
      "outputs": [
        {
          "output_type": "stream",
          "text": [
            "Is this the real life? \n",
            " Is this just fantasy? \n",
            " caught in a landslide \n",
            " no escape from reality\n"
          ],
          "name": "stdout"
        }
      ]
    },
    {
      "cell_type": "markdown",
      "metadata": {
        "id": "G7uRXKkFtgA5",
        "colab_type": "text"
      },
      "source": [
        "\n",
        "\n",
        "## TYPECASTING\n",
        "\n",
        "### P1.PY\n",
        "\n",
        "\n"
      ]
    },
    {
      "cell_type": "code",
      "metadata": {
        "id": "PuWhb2SJtgA5",
        "colab_type": "code",
        "colab": {
          "base_uri": "https://localhost:8080/",
          "height": 289
        },
        "outputId": "fe5973aa-fe6c-4603-df05-9aa6b2ec9987"
      },
      "source": [
        "\"\"\"\n",
        "Typcasting w. Integers & Floats\n",
        "\"\"\"\n",
        "\n",
        "# Convert these numbers into floats and back. Print out each result as well as its data type.\n",
        "\n",
        "five = 5\n",
        "zero = 0\n",
        "neg_8 = -8\n",
        "neg_22 = -22\n",
        "\n",
        "five = float(five)\n",
        "zero = float(zero)\n",
        "neg_8 = float(neg_8)\n",
        "neg_22 = float(neg_22)\n",
        "\n",
        "print(five) \n",
        "print(type(five))\n",
        "print(zero) \n",
        "print(type(zero))\n",
        "print(neg_8) \n",
        "print(type(neg_8))\n",
        "print(neg_22) \n",
        "print(type(neg_22))\n",
        "\n",
        "five = int(five)\n",
        "zero = int(zero)\n",
        "neg_8 = int(neg_8)\n",
        "neg_22 = int(neg_22)\n",
        "\n",
        "print(five) \n",
        "print(type(five))\n",
        "print(zero) \n",
        "print(type(zero))\n",
        "print(neg_8) \n",
        "print(type(neg_8))\n",
        "print(neg_22) \n",
        "print(type(neg_22))\n"
      ],
      "execution_count": 7,
      "outputs": [
        {
          "output_type": "stream",
          "text": [
            "5.0\n",
            "<class 'float'>\n",
            "0.0\n",
            "<class 'float'>\n",
            "-8.0\n",
            "<class 'float'>\n",
            "-22.0\n",
            "<class 'float'>\n",
            "5\n",
            "<class 'int'>\n",
            "0\n",
            "<class 'int'>\n",
            "-8\n",
            "<class 'int'>\n",
            "-22\n",
            "<class 'int'>\n"
          ],
          "name": "stdout"
        }
      ]
    },
    {
      "cell_type": "markdown",
      "metadata": {
        "id": "MiiApvyJtgA8",
        "colab_type": "text"
      },
      "source": [
        "\n",
        "\n",
        "### P2.PY\n",
        "\n",
        "\n"
      ]
    },
    {
      "cell_type": "code",
      "metadata": {
        "id": "v9Oo781ltgA8",
        "colab_type": "code",
        "colab": {
          "base_uri": "https://localhost:8080/",
          "height": 357
        },
        "outputId": "c1feb56f-a6f9-40bc-f863-1bf6e131617d"
      },
      "source": [
        "\"\"\"\n",
        "Typcasting w. Strings\n",
        "\"\"\"\n",
        "\n",
        "# Convert these variables into strings and then back to their original data types. \n",
        "#Print out each result as well as its data type. What do you notice about the last one?\n",
        "\n",
        "five = 5\n",
        "zero = 0\n",
        "neg_8 = -8\n",
        "T = True\n",
        "F = False\n",
        "\n",
        "five = str(five)\n",
        "zero = str(zero)\n",
        "neg_8 = str(neg_8)\n",
        "T = str(T)\n",
        "F = str(F)\n",
        "\n",
        "print(five) \n",
        "print(type(five))\n",
        "print(zero)\n",
        "print(type(zero))\n",
        "print(neg_8)\n",
        "print(type(neg_8))\n",
        "print(T)\n",
        "print(type(T))\n",
        "print(F)\n",
        "print(type(F))\n",
        "\n",
        "five = int(5)\n",
        "zero = int(zero)\n",
        "neg_8 = int(neg_8)\n",
        "T = bool(T)\n",
        "F = bool(F)\n",
        "\n",
        "print(five) \n",
        "print(type(five))\n",
        "print(zero)\n",
        "print(type(zero))\n",
        "print(neg_8)\n",
        "print(type(neg_8))\n",
        "print(T)\n",
        "print(type(T))\n",
        "print(F)\n",
        "print(type(F))\n"
      ],
      "execution_count": 10,
      "outputs": [
        {
          "output_type": "stream",
          "text": [
            "5\n",
            "<class 'str'>\n",
            "0\n",
            "<class 'str'>\n",
            "-8\n",
            "<class 'str'>\n",
            "True\n",
            "<class 'str'>\n",
            "False\n",
            "<class 'str'>\n",
            "5\n",
            "<class 'int'>\n",
            "0\n",
            "<class 'int'>\n",
            "-8\n",
            "<class 'int'>\n",
            "True\n",
            "<class 'bool'>\n",
            "True\n",
            "<class 'bool'>\n"
          ],
          "name": "stdout"
        }
      ]
    },
    {
      "cell_type": "markdown",
      "metadata": {
        "id": "tTRF4PFmtgA-",
        "colab_type": "text"
      },
      "source": [
        "\n",
        "\n",
        "### P3.PY\n",
        "\n",
        "\n"
      ]
    },
    {
      "cell_type": "code",
      "metadata": {
        "id": "sxk64OXstgA_",
        "colab_type": "code",
        "colab": {
          "base_uri": "https://localhost:8080/",
          "height": 323
        },
        "outputId": "a74178eb-9d07-451b-8c30-e1ded84872c5"
      },
      "source": [
        "\"\"\"\n",
        "Booleans I - Typecasting w. Numbers\n",
        "\"\"\"\n",
        "\n",
        "# A) Use typecasting to turn these variables into boolean values. Print the result and the datatype of the result. \n",
        "\n",
        "one = 1\n",
        "zero = 0\n",
        "\n",
        "one = bool(one)\n",
        "zero = bool(zero)\n",
        "\n",
        "print(one)\n",
        "print(type(one))\n",
        "print(zero)\n",
        "print(type(zero))\n",
        "\n",
        "# B) Use typecasting to turn the resultant variables from part A into floats. Print the result and the datatype of the result.\n",
        "\n",
        "one = float(one)\n",
        "print(one)\n",
        "print(type(one))\n",
        "zero = float(zero)\n",
        "print(zero)\n",
        "print(type(zero))\n",
        "\n",
        "# C) Use typecasting to turn the resultant variables from part B back into booleans. Print the result and the datatype of the result.\n",
        "one = bool(one)\n",
        "print(one)\n",
        "print(type(one))\n",
        "zero = bool(zero)\n",
        "print(zero)\n",
        "print(type(zero))\n",
        "\n",
        "# C) Use typecasting to turn the resultant variables from part C into integers. Print the result and the datatype of the result.\n",
        "one = int(one)\n",
        "print(one)\n",
        "print(type(one))\n",
        "zero = int(zero)\n",
        "print(zero)\n",
        "print(type(zero))\n",
        "\n",
        "# E) Use typecasting to turn the variable below into a boolean value. Print the result and the datatype of the result. \n",
        "\n",
        "ten = 10\n",
        "ten = bool(ten)\n",
        "print(ten)\n",
        "print(type(ten))\n"
      ],
      "execution_count": 20,
      "outputs": [
        {
          "output_type": "stream",
          "text": [
            "True\n",
            "<class 'bool'>\n",
            "False\n",
            "<class 'bool'>\n",
            "1.0\n",
            "<class 'float'>\n",
            "0.0\n",
            "<class 'float'>\n",
            "True\n",
            "<class 'bool'>\n",
            "False\n",
            "<class 'bool'>\n",
            "1\n",
            "<class 'int'>\n",
            "0\n",
            "<class 'int'>\n",
            "True\n",
            "<class 'bool'>\n"
          ],
          "name": "stdout"
        }
      ]
    },
    {
      "cell_type": "markdown",
      "metadata": {
        "id": "9NVVX6aatgBB",
        "colab_type": "text"
      },
      "source": [
        "\n",
        "\n",
        "### P4.PY\n",
        "\n",
        "\n"
      ]
    },
    {
      "cell_type": "code",
      "metadata": {
        "id": "gFM1mXDFtgBC",
        "colab_type": "code",
        "colab": {
          "base_uri": "https://localhost:8080/",
          "height": 289
        },
        "outputId": "31b28635-483c-4059-8ae4-c5637fd3ba8b"
      },
      "source": [
        "\"\"\"\n",
        "Booleans II - Typecasting w. Strings\n",
        "\"\"\"\n",
        "\n",
        "# A) Use typecasting to turn these variables into boolean values. Print the result and the datatype of the result. \n",
        "\n",
        "one = 1\n",
        "zero = 0\n",
        "bool_true = True\n",
        "bool_false = False\n",
        "\n",
        "one = bool(one)\n",
        "print(one)\n",
        "print(type(one))\n",
        "zero = bool(zero)\n",
        "print(zero)\n",
        "print(type(zero))\n",
        "print(bool_true)\n",
        "print(type(bool_true))\n",
        "print(bool_false)\n",
        "print(type(bool_false))\n",
        "\n",
        "\n",
        "# B) Use typecasting to turn the latest values for variables 'one' and 'zero' back into integers. Print the result and the datatype of the result.\n",
        "one = int(one)\n",
        "zero = int(zero)\n",
        "\n",
        "print(one)\n",
        "print(type(one))\n",
        "print(zero)\n",
        "print(type(zero))\n",
        "\n",
        "\n",
        "# C) Use typecasting to turn the latest values for variables 'bool_true' and 'bool_false' back into boolean values. Print the result and the datatype of the result.\n",
        "print(bool_true)\n",
        "print(type(bool_true))\n",
        "print(bool_false)\n",
        "print(type(bool_false))\n",
        "\n",
        "\n",
        "\n"
      ],
      "execution_count": 26,
      "outputs": [
        {
          "output_type": "stream",
          "text": [
            "True\n",
            "<class 'bool'>\n",
            "False\n",
            "<class 'bool'>\n",
            "True\n",
            "<class 'bool'>\n",
            "False\n",
            "<class 'bool'>\n",
            "1\n",
            "<class 'int'>\n",
            "0\n",
            "<class 'int'>\n",
            "True\n",
            "<class 'bool'>\n",
            "False\n",
            "<class 'bool'>\n"
          ],
          "name": "stdout"
        }
      ]
    },
    {
      "cell_type": "markdown",
      "metadata": {
        "id": "EtT02Mv0tgBG",
        "colab_type": "text"
      },
      "source": [
        "\n",
        "\n",
        "## OPERATORS\n",
        "\n",
        "### P1.PY\n",
        "\n",
        "\n"
      ]
    },
    {
      "cell_type": "code",
      "metadata": {
        "id": "cfT4kPgKtgBI",
        "colab_type": "code",
        "colab": {
          "base_uri": "https://localhost:8080/",
          "height": 34
        },
        "outputId": "58cf5c71-58ae-45cc-8333-0f99da24ec0e"
      },
      "source": [
        "\"\"\"\n",
        "Integer & Float Operators\n",
        "\"\"\"\n",
        "\n",
        "# Complete the specified math operations. Do the next operation on the result from the previous operation.\n",
        "\n",
        "orig_var = 100\n",
        "\n",
        "# Add 50\n",
        "\n",
        "orig_var = orig_var + 50\n",
        "\n",
        "# Subtract 90\n",
        "\n",
        "orig_var = orig_var -90\n",
        "# Multiply 10\n",
        "\n",
        "orig_var = orig_var * 10\n",
        "\n",
        "# Divide 150\n",
        "\n",
        "orig_var = orig_var / 150 \n",
        "\n",
        "# Modulus 3\n",
        "orig_var = orig_var % 3\n",
        "\n",
        "print(orig_var)"
      ],
      "execution_count": 27,
      "outputs": [
        {
          "output_type": "stream",
          "text": [
            "1.0\n"
          ],
          "name": "stdout"
        }
      ]
    },
    {
      "cell_type": "markdown",
      "metadata": {
        "id": "JaY8oVNptgBL",
        "colab_type": "text"
      },
      "source": [
        "\n",
        "\n",
        "### P2.PY\n",
        "\n",
        "\n"
      ]
    },
    {
      "cell_type": "code",
      "metadata": {
        "id": "-bVQSRgQtgBN",
        "colab_type": "code",
        "colab": {
          "base_uri": "https://localhost:8080/",
          "height": 34
        },
        "outputId": "0e39c8c3-29b3-4715-976a-995c0c1e7f59"
      },
      "source": [
        "\"\"\"\n",
        "String Operators\n",
        "\"\"\"\n",
        "\n",
        "# Create two variables, each of which is half of a compound sentence. Do NOT add any punctuation up front. \n",
        "#Add the two variables together, and print the result.\n",
        "## Example compound sentence: \"I'll go to the beach today, and I'll go snorkeling.\" \n",
        "\n",
        "sentence1 = \"Hello there, \"\n",
        "sentence2 = \"how are you?\"\n",
        "\n",
        "print(sentence1 + sentence2)"
      ],
      "execution_count": 28,
      "outputs": [
        {
          "output_type": "stream",
          "text": [
            "Hello there, how are you?\n"
          ],
          "name": "stdout"
        }
      ]
    },
    {
      "cell_type": "markdown",
      "metadata": {
        "id": "laSTz5zjtgBS",
        "colab_type": "text"
      },
      "source": [
        "\n",
        "\n",
        "### P3.PY\n",
        "\n",
        "\n"
      ]
    },
    {
      "cell_type": "code",
      "metadata": {
        "id": "Fn43pDfrtgBT",
        "colab_type": "code",
        "colab": {
          "base_uri": "https://localhost:8080/",
          "height": 68
        },
        "outputId": "a5b53f0d-4286-4713-ed2b-9a504e8e700c"
      },
      "source": [
        "\"\"\"\n",
        "Addition I - Numbers & Strings\n",
        "\"\"\"\n",
        "\n",
        "# Add the below sets of variables together.\n",
        "\n",
        "# A)\n",
        "a = 0\n",
        "b = 2\n",
        "\n",
        "print(a+b)\n",
        "\n",
        "# B)\n",
        "c = '0'\n",
        "d = '2'\n",
        "\n",
        "print(c+d)\n",
        "\n",
        "# C)\n",
        "e = \"0\"\n",
        "f = 2\n",
        "\n",
        "f = str(f)\n",
        "\n",
        "print(e+f)"
      ],
      "execution_count": 33,
      "outputs": [
        {
          "output_type": "stream",
          "text": [
            "2\n",
            "02\n",
            "02\n"
          ],
          "name": "stdout"
        }
      ]
    },
    {
      "cell_type": "markdown",
      "metadata": {
        "id": "l9AEtypktgBV",
        "colab_type": "text"
      },
      "source": [
        "\n",
        "\n",
        "### P4.PY\n",
        "\n",
        "\n"
      ]
    },
    {
      "cell_type": "code",
      "metadata": {
        "id": "FQ8JQrb5tgBV",
        "colab_type": "code",
        "colab": {
          "base_uri": "https://localhost:8080/",
          "height": 68
        },
        "outputId": "94ade4b6-8a1a-4632-a3e6-c628a8b532b9"
      },
      "source": [
        "\"\"\"\n",
        "Addition II - Booleans\n",
        "\"\"\"\n",
        "\n",
        "# Add the below sets of variables together.\n",
        "\n",
        "# A)\n",
        "a = True\n",
        "b = True\n",
        "\n",
        "print(a + b)\n",
        "\n",
        "# B)\n",
        "c = False\n",
        "d = False\n",
        "print (c + d)\n",
        "\n",
        "\n",
        "# C)\n",
        "e = True\n",
        "f = False\n",
        "\n",
        "print(e+f)"
      ],
      "execution_count": 37,
      "outputs": [
        {
          "output_type": "stream",
          "text": [
            "2\n",
            "0\n",
            "1\n"
          ],
          "name": "stdout"
        }
      ]
    },
    {
      "cell_type": "markdown",
      "metadata": {
        "id": "c81QVBTItgBY",
        "colab_type": "text"
      },
      "source": [
        "\n"
      ]
    }
  ]
}