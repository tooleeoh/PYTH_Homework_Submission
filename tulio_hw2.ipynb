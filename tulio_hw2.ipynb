{
  "nbformat": 4,
  "nbformat_minor": 0,
  "metadata": {
    "colab": {
      "name": "tulio_hw2.ipynb",
      "version": "0.3.2",
      "provenance": []
    },
    "kernelspec": {
      "name": "python3",
      "display_name": "Python 3"
    }
  },
  "cells": [
    {
      "cell_type": "markdown",
      "metadata": {
        "id": "urWaeiUZao2v",
        "colab_type": "text"
      },
      "source": [
        "<a href=\"https://colab.research.google.com/github/mottaquikarim/PYTH2/blob/master/src/PSETS/nb/hw2.ipynb\" target=\"_parent\"><img src=\"https://colab.research.google.com/assets/colab-badge.svg\" alt=\"Open In Colab\"/></a>"
      ]
    },
    {
      "cell_type": "markdown",
      "metadata": {
        "id": "DWRlGe4hao2z",
        "colab_type": "text"
      },
      "source": [
        "#  LISTS\n",
        "\n",
        "## LIST_MANIPULATION\n",
        "\n",
        "### P1.PY Phone Numbers\n"
      ]
    },
    {
      "cell_type": "code",
      "metadata": {
        "id": "wTaW0eGYao20",
        "colab_type": "code",
        "colab": {
          "base_uri": "https://localhost:8080/",
          "height": 34
        },
        "outputId": "0f3659d3-a838-4029-b18f-958dd05d1956"
      },
      "source": [
        "\"\"\"\n",
        "Phone Numbers\n",
        "\"\"\"\n",
        "\n",
        "# Parse this phone number so that a computer can process\n",
        "# it. (Hint: It can't include any non-numeric\n",
        "# characters.)\n",
        "\n",
        "cell = '1.192.168.0143'\n",
        "\n",
        "cell = cell.split('.')\n",
        "\n",
        "\n",
        "cell=''.join(cell)\n",
        "\n",
        "print(cell)"
      ],
      "execution_count": 28,
      "outputs": [
        {
          "output_type": "stream",
          "text": [
            "11921680143\n"
          ],
          "name": "stdout"
        }
      ]
    },
    {
      "cell_type": "markdown",
      "metadata": {
        "id": "L71oiGicao27",
        "colab_type": "text"
      },
      "source": [
        "\n",
        "\n",
        "### P2.PY Basic Math Ops\n",
        "\n",
        "\n"
      ]
    },
    {
      "cell_type": "code",
      "metadata": {
        "id": "ZWnZ3zoPao27",
        "colab_type": "code",
        "colab": {
          "base_uri": "https://localhost:8080/",
          "height": 102
        },
        "outputId": "49fb9b6f-08d5-424a-dbc6-15ea653edc38"
      },
      "source": [
        "\"\"\"\n",
        "Basic Math Ops\n",
        "\"\"\"\n",
        "\n",
        "# Given the list below, assign the correct values to the variables below.\n",
        "\t# my_sum = \n",
        "\t# my_min = \n",
        "\t# my_max = \n",
        "\t# my_range = \n",
        "\t# my_mean =\n",
        "\n",
        "nums = [2, 19, 20, 12, 6, 24, 8, 30, 28, 25]\n",
        "\n",
        "my_sum = sum(nums)\n",
        "my_min = min(nums)\n",
        "my_max = max(nums)\n",
        "my_range = [my_min, my_max]\n",
        "my_mean = my_sum/len(nums)\n",
        "\n",
        "print(f'my_sum = {my_sum}')\n",
        "print(f'my_min = {my_min}')\n",
        "print(f'my_max = {my_max}')\n",
        "print(f'my_range = {my_range}')\n",
        "print(f'my_mean = {my_mean}')\n",
        "\n",
        "# Once you finish, print out each value **on its own line** in this format: \"my_median = \" etc.\n",
        "\n"
      ],
      "execution_count": 36,
      "outputs": [
        {
          "output_type": "stream",
          "text": [
            "my_sum = 174\n",
            "my_min = 2\n",
            "my_max = 30\n",
            "my_range = [2, 30]\n",
            "my_mean = 17.4\n"
          ],
          "name": "stdout"
        }
      ]
    },
    {
      "cell_type": "markdown",
      "metadata": {
        "id": "8Imyk8MKao2_",
        "colab_type": "text"
      },
      "source": [
        "\n",
        "\n",
        "### P3.PY Merge Lists with Duplicates\n",
        "\n"
      ]
    },
    {
      "cell_type": "code",
      "metadata": {
        "id": "SPwUX4wBao3C",
        "colab_type": "code",
        "colab": {
          "base_uri": "https://localhost:8080/",
          "height": 119
        },
        "outputId": "23da6a2d-f458-4cde-a1e9-4d0893cea8b4"
      },
      "source": [
        "\"\"\"\n",
        "Merge Lists with Duplicates\n",
        "\"\"\"\n",
        "\n",
        "# Use the two lists below to solve this problem. Print out the result from each section as you go along.\n",
        "\n",
        "list1, list2 = [2, 8, 6], [10, 4, 12]\n",
        "\n",
        "print(list1)\n",
        "print(list2)\n",
        "# A) Add another instance of each item in list1 to list1 again and assign the results to list3.\n",
        "list3 = list(list1)\n",
        "list3.extend(list1)\n",
        "\n",
        "print(list1, list3)\n",
        "\n",
        "\n",
        "# B) Combine the two given lists and assign them to list4.\n",
        "list4 = list1 + list2\n",
        "\n",
        "print(list4)\n",
        "\n",
        "# C) Replace the first 3 items in list 3 with the numbers 13, 16, 9.\n",
        "list3[:2] = 13, 16, 9\n",
        "print(list3)\n",
        "# D) Merge list3 and list4 to create a list containing no duplicates and store this in list5.\n",
        "list5 = list3 + list4\n",
        "\n",
        "list5 = list(set(list5))\n",
        "\n",
        "print(list5)\n",
        "\n",
        "# Take a look at your printed statements to see the evolution of your lists with each step of this problem.\n"
      ],
      "execution_count": 12,
      "outputs": [
        {
          "output_type": "stream",
          "text": [
            "[2, 8, 6]\n",
            "[10, 4, 12]\n",
            "[2, 8, 6] [2, 8, 6, 2, 8, 6]\n",
            "[2, 8, 6, 10, 4, 12]\n",
            "[13, 16, 9, 6, 2, 8, 6]\n",
            "[2, 4, 6, 8, 9, 10, 12, 13, 16]\n"
          ],
          "name": "stdout"
        }
      ]
    },
    {
      "cell_type": "markdown",
      "metadata": {
        "id": "JEyYfcg-ao3F",
        "colab_type": "text"
      },
      "source": [
        "\n",
        "\n",
        "### P4.PY Spotify Playlists - Sorting\n"
      ]
    },
    {
      "cell_type": "code",
      "metadata": {
        "id": "Pn4MfsiGao3G",
        "colab_type": "code",
        "colab": {
          "base_uri": "https://localhost:8080/",
          "height": 71
        },
        "outputId": "b0fa8c41-e18d-49a3-a7d7-dbaa30f2c399"
      },
      "source": [
        "\"\"\"\n",
        "Spotify Playlists - Sorting\n",
        "\"\"\"\n",
        "\n",
        "# You work for Spotify and are creating a feature for users to alphabetize their playlists by song title. \n",
        "#Below is a list of titles from a sample playlist.\n",
        "\n",
        "playlist_titles = ['Tiny Dancer', 'At Last', 'Fortunate Son', \n",
        "'Hey Jude', 'Isn\\'t She Lovely', 'Just the Way You Are', 'I\\'m Yours',\n",
        "'Vienna', 'Roxanne', 'Dancing in the Moonlight']\n",
        "\n",
        "# Alphabetize these songs and print the result.\n",
        "\n",
        "playlist_titles.sort()\n",
        "print(playlist_titles)\n",
        "\n",
        "# Now do the reverse.\n",
        "\n",
        "playlist_titles.sort(reverse = True)\n",
        "print(playlist_titles)"
      ],
      "execution_count": 14,
      "outputs": [
        {
          "output_type": "stream",
          "text": [
            "['At Last', 'Dancing in the Moonlight', 'Fortunate Son', 'Hey Jude', \"I'm Yours\", \"Isn't She Lovely\", 'Just the Way You Are', 'Roxanne', 'Tiny Dancer', 'Vienna']\n",
            "['Vienna', 'Tiny Dancer', 'Roxanne', 'Just the Way You Are', \"Isn't She Lovely\", \"I'm Yours\", 'Hey Jude', 'Fortunate Son', 'Dancing in the Moonlight', 'At Last']\n"
          ],
          "name": "stdout"
        }
      ]
    },
    {
      "cell_type": "markdown",
      "metadata": {
        "id": "dx2w9AzYao3K",
        "colab_type": "text"
      },
      "source": [
        "\n",
        "\n",
        "### P5.PY Cool Runnings!\n"
      ]
    },
    {
      "cell_type": "code",
      "metadata": {
        "id": "Nzpx5LXDao3M",
        "colab_type": "code",
        "colab": {
          "base_uri": "https://localhost:8080/",
          "height": 85
        },
        "outputId": "336dfb70-71d8-4f31-c4b6-8ae6cb744ebf"
      },
      "source": [
        "\"\"\"\n",
        "Cool Runnings!\n",
        "\"\"\"\n",
        "\n",
        "# Here's a quote from the movie 'Cool Runnings'. :)\n",
        "\n",
        "# Replace the word bobsled with \"YOLO\" and print the resultant list as 4 sentences (i.e. NOT a list), each on a new line.\n",
        "\n",
        "cool_runnings = [\n",
        "\t'Feel', 'the', 'rhythm.',\n",
        "\t'Feel', 'the', 'rhyme.',\n",
        "\t'Get', 'on', 'up.',\n",
        "\t'It\\'s', 'bobsled', 'time!'\n",
        "]\n",
        "\n",
        "cool_runnings[len(cool_runnings)-2] = 'YOLO'\n",
        "\n",
        "print(\" \".join(cool_runnings[:3]))\n",
        "print(\" \".join(cool_runnings[3:6]))\n",
        "print(\" \".join(cool_runnings[6:9]))\n",
        "print(\" \".join(cool_runnings[9:]))"
      ],
      "execution_count": 16,
      "outputs": [
        {
          "output_type": "stream",
          "text": [
            "Feel the rhythm.\n",
            "Feel the rhyme.\n",
            "Get on up.\n",
            "It's YOLO time!\n"
          ],
          "name": "stdout"
        }
      ]
    },
    {
      "cell_type": "markdown",
      "metadata": {
        "id": "mMK2XjqFao3Q",
        "colab_type": "text"
      },
      "source": [
        "\n",
        "\n",
        "## LIST_CHALLENGES\n",
        "\n",
        "### P1.PY CHALLENGE - Extensions\n"
      ]
    },
    {
      "cell_type": "code",
      "metadata": {
        "id": "09xSY6Voao3R",
        "colab_type": "code",
        "colab": {
          "base_uri": "https://localhost:8080/",
          "height": 34
        },
        "outputId": "6a8ab7a1-e712-4c72-f667-b6dc7c1efe66"
      },
      "source": [
        "\"\"\"\n",
        "CHALLENGE - Extensions\n",
        "\"\"\"\n",
        "\n",
        "# ** Challenge** Add each element of the tuple1 to list1 *individually* and print the result.\n",
        "\n",
        "list1 = [6, 12, 9, 4, 10, 1]\n",
        "tuple1 = [(15,3), (6,2), (1, 8)]\n",
        "\n",
        "list2 =[]\n",
        "list2.extend(tuple1[0])\n",
        "list2.extend(tuple1[1])\n",
        "list2.extend(tuple1[2])\n",
        "\n",
        "list1.extend(list2)\n",
        "\n",
        "print(list1)\n",
        "\n"
      ],
      "execution_count": 17,
      "outputs": [
        {
          "output_type": "stream",
          "text": [
            "[6, 12, 9, 4, 10, 1, 15, 3, 6, 2, 1, 8]\n"
          ],
          "name": "stdout"
        }
      ]
    },
    {
      "cell_type": "markdown",
      "metadata": {
        "id": "5JV6jTtoao3T",
        "colab_type": "text"
      },
      "source": [
        "\n",
        "\n",
        "### P2.PY CHALLENGE - Core Statistics Calculations\n"
      ]
    },
    {
      "cell_type": "code",
      "metadata": {
        "id": "F8PhoPDwao3U",
        "colab_type": "code",
        "colab": {
          "base_uri": "https://localhost:8080/",
          "height": 34
        },
        "outputId": "e7f15476-4f09-406a-e216-8d4f0c74afba"
      },
      "source": [
        "\"\"\"\n",
        "CHALLENGE - Core Statistics Calculations\n",
        "\"\"\"\n",
        "\n",
        "# Given the sample below, find the mean, median, mode, variance, and standard deviation of this sample. \n",
        "# Print them out separately, but in the same format as before.\n",
        "sample = [6, 19, 20, 12, 6, 24, 8, 30, 28, 25]\n",
        "\n",
        "my_median = None\n",
        "my_mode = None\n",
        "my_variance = None\n",
        "my_sd = None\n",
        "\n",
        "sample = [6, 19, 20, 12, 6, 24, 8, 30, 28, 25]\n",
        "\n",
        "\n",
        "# Once you finish, print out each value **on its own line** in this format: \"median = \" etc.\n"
      ],
      "execution_count": 21,
      "outputs": [
        {
          "output_type": "stream",
          "text": [
            "[6, 6, 8, 12, 19, 20, 24, 25, 28, 30]\n"
          ],
          "name": "stdout"
        }
      ]
    },
    {
      "cell_type": "markdown",
      "metadata": {
        "id": "cSa2P1fDao3Y",
        "colab_type": "text"
      },
      "source": [
        "\n",
        "\n",
        "#  DICTS\n",
        "\n",
        "## DICT_OPS\n",
        "\n",
        "### P1.PY Basic Dict Concepts\n"
      ]
    },
    {
      "cell_type": "code",
      "metadata": {
        "id": "oykeieYhao3b",
        "colab_type": "code",
        "colab": {
          "base_uri": "https://localhost:8080/",
          "height": 85
        },
        "outputId": "ca4f8fe4-5a9a-4409-9319-7f58a989a6c0"
      },
      "source": [
        "\"\"\"\n",
        "Basic Dict Concepts\n",
        "\"\"\"\n",
        "\n",
        "# A) Declare an empty dict as d1.\n",
        "\n",
        "d1 ={}\n",
        "\n",
        "# B) Create a dict called d2 containing the first and last names below:\n",
        "# Anthony Paollelo, Ping Qiao, Enrique Alvarez, Arjun Dhir \n",
        "\n",
        "d2 = {\n",
        "    'Anthony' : 'Paollelo',\n",
        "    'Ping' : 'Qiao',\n",
        "    'Enrique' : 'Alvarez',\n",
        "    'Arjun' : 'Dhir'\n",
        "}\n",
        "\n",
        "\n",
        "# C) Add Allison Zhang person to d2.\n",
        "\n",
        "d2[\"Allison\"] = 'Zhang'\n",
        "\n",
        "# D) How many people are now in d2? Print out all their *first* names in the vars below.\n",
        "\n",
        "### num_people = \n",
        "\n",
        "### first_names = \n",
        "\n",
        "num_people = len(d2)\n",
        "print(num_people)\n",
        "first_names = d2.keys()\n",
        "print(first_names)\n",
        "\n",
        "# E) Delete a random person from d2 and print his/her name in the var below.\n",
        "\n",
        "### x = \n",
        "\n",
        "x = d2.popitem()\n",
        "\n",
        "print(x)\n",
        "\n",
        "# F) Re-add the name you deleted to the end of d2.\n",
        "\n",
        "key = x[0]\n",
        "value = x[1]\n",
        "\n",
        "d2[key] = value\n",
        "print(d2)\n",
        "\n",
        "\n"
      ],
      "execution_count": 22,
      "outputs": [
        {
          "output_type": "stream",
          "text": [
            "5\n",
            "dict_keys(['Anthony', 'Ping', 'Enrique', 'Arjun', 'Allison'])\n",
            "('Allison', 'Zhang')\n",
            "{'Anthony': 'Paollelo', 'Ping': 'Qiao', 'Enrique': 'Alvarez', 'Arjun': 'Dhir', 'Allison': 'Zhang'}\n"
          ],
          "name": "stdout"
        }
      ]
    },
    {
      "cell_type": "markdown",
      "metadata": {
        "id": "aPV7ZiOoao3g",
        "colab_type": "text"
      },
      "source": [
        "\n",
        "\n",
        "### P2.PY Merging Dicts\n",
        "\n",
        "\n"
      ]
    },
    {
      "cell_type": "code",
      "metadata": {
        "id": "r0VltAZPao3h",
        "colab_type": "code",
        "colab": {}
      },
      "source": [
        "\"\"\"\n",
        "Merging Dicts\n",
        "\"\"\"\n",
        "\n",
        "# Merge these two dicts without creating a new one.\n",
        "\n",
        "d1 = {'a': 100, 'b': 200}\n",
        "d2 = {'c': 300, 'd': 400, 'e': 500}\n",
        "\n",
        "d1 = {'a': 100, 'b': 200}\n",
        "d2 = {'c': 300, 'd': 400, 'e': 500}\n",
        "\n",
        "d1.update(d2)\n",
        "print(d1)\n"
      ],
      "execution_count": 0,
      "outputs": []
    },
    {
      "cell_type": "markdown",
      "metadata": {
        "id": "YoGiiBHiao3l",
        "colab_type": "text"
      },
      "source": [
        "\n",
        "\n",
        "### P3.PY Math with Girl Scout Cookies\n",
        "\n",
        "\n"
      ]
    },
    {
      "cell_type": "code",
      "metadata": {
        "id": "jQ_3T-Lvao3m",
        "colab_type": "code",
        "colab": {}
      },
      "source": [
        "\"\"\"\n",
        "Math with Girl Scout Cookies\n",
        "\"\"\"\n",
        "\n",
        "# Print out the number of boxes of girl scout cookies that each girl in the troop sold in the below format:\n",
        "\t# Wendy: _____\n",
        "\t# Connie: _____\n",
        "\t# Francesca: _____\n",
        "\n",
        "Wendy = {'tagalongs': 5, 'thin mints': 12, 'samoas': 8}\n",
        "Connie = {'tagalongs': 10, 'thin mints': 4, 'samoas': 12}\n",
        "Francesca = {'tagalongs': 18, 'thin mints': 14, 'samoas': 10}\n",
        "\n",
        "salesW = sum(list(Wendy.values()))\n",
        "salesC = sum(list(Connie.values()))\n",
        "salesF = sum(list(Francesca.values()))\n",
        "\n",
        "\n",
        "# For each type of girl scout cookie, print out the total number of boxes sold in the below format:\n",
        "\t# tagalongs: _____\n",
        "\t# thin mints: _____\n",
        "\t# samoas: _____\n",
        "\n",
        "### total_tagalongs = \n",
        "### total_thinmints = \n",
        "### total_samoas = \n",
        "\n",
        "\n",
        "# For each type of girl scout cookie, print out the average number of boxes sold in the below format:\n",
        "\t# tagalongs: _____\n",
        "\t# thin mints: _____\n",
        "\t# samoas: _____\n",
        "\n",
        "### avg_tagalongs = \n",
        "### avg_thinmints = \n",
        "### avg_samoas = \n",
        "\n",
        "# Print out total the number of boxes of cookies the girls sold collectively as follows:\n",
        "\t# \"This year we sold ______ boxes!\"\n",
        "\n",
        "### boxes_sold = "
      ],
      "execution_count": 0,
      "outputs": []
    },
    {
      "cell_type": "markdown",
      "metadata": {
        "id": "ny8MNJjHao3q",
        "colab_type": "text"
      },
      "source": [
        "\n",
        "\n",
        "### P4.PY Inverting Keys & Values\n",
        "\n",
        "\n"
      ]
    },
    {
      "cell_type": "code",
      "metadata": {
        "id": "VDQl_ZvCao3r",
        "colab_type": "code",
        "colab": {}
      },
      "source": [
        "\"\"\"\n",
        "Inverting Keys & Values\n",
        "\"\"\"\n",
        "\n",
        "# Invert dict1 - make the current keys into values and the current values into keys.\n",
        "\n",
        "\n",
        "dict1 = { \"k1\" : \"v1\", \"k2\" : \"v2\", \"k3\" : \"v1\" }\n",
        "\n"
      ],
      "execution_count": 0,
      "outputs": []
    },
    {
      "cell_type": "markdown",
      "metadata": {
        "id": "qzkSYWtzao3t",
        "colab_type": "text"
      },
      "source": [
        "\n",
        "\n",
        "### P5.PY Lists to Dicts\n",
        "\n",
        "\n"
      ]
    },
    {
      "cell_type": "code",
      "metadata": {
        "id": "D0pdlBdDao3u",
        "colab_type": "code",
        "colab": {}
      },
      "source": [
        "\"\"\"\n",
        "Lists to Dicts\n",
        "\"\"\"\n",
        "\n",
        "# Turn these two lists into a dict called grades.\n",
        "\n",
        "names = ['Taq', 'Zola', 'Valerie', 'Valerie']\n",
        "scores = [[98, 89, 92, 94], [86, 45, 98, 100], [100, 100, 100, 100], [76, 79, 80, 82]]\n",
        "\n",
        "### grades = "
      ],
      "execution_count": 0,
      "outputs": []
    },
    {
      "cell_type": "markdown",
      "metadata": {
        "id": "-c3Cn0Awao3w",
        "colab_type": "text"
      },
      "source": [
        "\n",
        "\n",
        "## SEARCH_VALIDATION\n",
        "\n",
        "### P1.PY Login Credentials\n",
        "\n",
        "\n"
      ]
    },
    {
      "cell_type": "code",
      "metadata": {
        "id": "o0ZO3pOzao3x",
        "colab_type": "code",
        "colab": {}
      },
      "source": [
        "\"\"\"\n",
        "Login Credentials\n",
        "\"\"\"\n",
        "\n",
        "# Imagine you work for a movie streaming service. You're in charge of safeguarding user privacy by ensuring the login feature remains secure. For the sake of example only, below is the dict of user login info. Normally, you wouldn't have access to see this unencrypted of course!\n",
        "\n",
        "users = {\n",
        "\t'person@email.com': 'PassWord',\n",
        "\t'someone@email.com': 'hiitsme',\n",
        "\t'me@email.com': 'myPassword',\n",
        "\t'anyone@email.com': 'IMawesome',\n",
        "\t'guy@email.com': 'pa$$wordz'\n",
        "\t# etc\n",
        "}\n",
        "\n",
        "\n",
        "# A user enters the below login info (email and password) for your app. Search your database of user logins to see if this account exists and if the password matches what you have on file. If the login credentials are correct, print \"Successful login!\". Otherwise, print \"The login info you entered does not match any of our records.\"\n",
        "\n",
        "current_user = { 'me@email.com': 'myPassword' }"
      ],
      "execution_count": 0,
      "outputs": []
    },
    {
      "cell_type": "markdown",
      "metadata": {
        "id": "JhX-Uvmvao3z",
        "colab_type": "text"
      },
      "source": [
        "\n",
        "\n",
        "## COUNTERS_CHALLENGE\n",
        "\n",
        "### P1.PY CHALLENGE - Word Frequency\n",
        "\n",
        "\n"
      ]
    },
    {
      "cell_type": "code",
      "metadata": {
        "id": "CYyIVFxSao3z",
        "colab_type": "code",
        "colab": {}
      },
      "source": [
        "\"\"\"\n",
        "CHALLENGE - Word Frequency\n",
        "\"\"\"\n",
        "\n",
        "# Print out the number of words in this movie quote. Find and print out the most common word in the quote and how many times it was used.\n",
        "### Hint: You do not need a loop for this. Look up the Counter docs in python3.\n",
        "\n",
        "from collections import Counter\n",
        "\n",
        "princess_bride = [\n",
        "'Hello', 'my', 'name', 'is', 'Inigo', 'Montoya',\n",
        "'You', 'killed', 'my', 'father',\n",
        "'Prepare', 'to', 'die'\n",
        "]\n",
        "\n",
        "### fave_word = \n",
        "\n",
        "# p.s. You might use this to help analyze the most common topic in comments or reviews from your users to help understand the best places to improve you product."
      ],
      "execution_count": 0,
      "outputs": []
    },
    {
      "cell_type": "markdown",
      "metadata": {
        "id": "5UdnDz-Qao31",
        "colab_type": "text"
      },
      "source": [
        "\n",
        "\n",
        "### P2.PY CHALLENGE - Summing Dict Values\n",
        "\n",
        "\n"
      ]
    },
    {
      "cell_type": "code",
      "metadata": {
        "id": "oGagrTmSao32",
        "colab_type": "code",
        "colab": {}
      },
      "source": [
        "\"\"\"\n",
        "CHALLENGE - Summing Dict Values\n",
        "\"\"\"\n",
        "\n",
        "# Two Kindergarten teachers poll their classes for what fruit they want to eat for snacktime tomorrow. Only one of them is going shopping, so she needs to know how many of each fruit she needs to buy in total. Tally these up and assign them to the \"shopping_list\" dict.\n",
        "\n",
        "poll1 = {'apples': 8, 'bananas': 12}\n",
        "poll2 = {'apples': 6, 'bananas': 6, 'clementines': 8}\n",
        "\n",
        "### shopping_list = \n",
        "\n"
      ],
      "execution_count": 0,
      "outputs": []
    },
    {
      "cell_type": "markdown",
      "metadata": {
        "id": "jQTbAGQ4ao35",
        "colab_type": "text"
      },
      "source": [
        "\n"
      ]
    }
  ]
}