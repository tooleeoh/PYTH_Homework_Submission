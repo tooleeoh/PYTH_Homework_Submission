{
  "nbformat": 4,
  "nbformat_minor": 0,
  "metadata": {
    "colab": {
      "name": "tulio_hw1(9/9 due).ipynb",
      "version": "0.3.2",
      "provenance": []
    },
    "kernelspec": {
      "name": "python3",
      "display_name": "Python 3"
    }
  },
  "cells": [
    {
      "cell_type": "markdown",
      "metadata": {
        "id": "8w2QsAg3qnE3",
        "colab_type": "text"
      },
      "source": [
        "<a href=\"https://colab.research.google.com/github/mottaquikarim/PYTH2/blob/master/src/PSETS/nb/conditionals_inclass_psets.ipynb\" target=\"_parent\"><img src=\"https://colab.research.google.com/assets/colab-badge.svg\" alt=\"Open In Colab\"/></a>"
      ]
    },
    {
      "cell_type": "markdown",
      "metadata": {
        "id": "lb7TiVOIqnE8",
        "colab_type": "text"
      },
      "source": [
        "#  CONDITIONALS\n",
        "\n",
        "## WEATHER\n",
        "\n",
        "### P1.PY\n",
        "\n",
        "\n"
      ]
    },
    {
      "cell_type": "code",
      "metadata": {
        "id": "_AaH7zxyqnE9",
        "colab_type": "code",
        "colab": {
          "base_uri": "https://localhost:8080/",
          "height": 85
        },
        "outputId": "5b561060-8cb8-4c86-a333-25411108cdba"
      },
      "source": [
        "\"\"\"\n",
        "Weather I - Do you need boots?\n",
        "\"\"\"\n",
        "\n",
        "# Use the values of the vars defined below to ouput the correct contextual answer to the questions below. \n",
        "#(Note: The variables themselves ARE the questions.)\n",
        "\n",
        "# Example:\n",
        "## am_i_hungry = False\n",
        "## am_i_tired = True\n",
        "## do_i_need_to_stay_awake = False\n",
        "\n",
        "## should_i_drink_coffee_now = am_i_tired and do_i_need_to_stay_awake\n",
        "\n",
        "## ^^ This ^^ evaluates to False. If you're tired and don't need to stay awake, you don't need to drink coffee!\n",
        "\n",
        "\n",
        "is_it_raining = True\n",
        "is_it_snowing = False\n",
        "\n",
        "\n",
        "do_i_need_snow_boots = is_it_snowing\n",
        "can_i_skip_snow_boots = not is_it_snowing\n",
        "do_i_need_rain_boots = is_it_raining\n",
        "can_i_skip_rain_boots = not is_it_raining\n",
        "\n",
        "print(do_i_need_snow_boots)\n",
        "print(can_i_skip_snow_boots)\n",
        "print(do_i_need_rain_boots)\n",
        "print(can_i_skip_rain_boots)"
      ],
      "execution_count": 4,
      "outputs": [
        {
          "output_type": "stream",
          "text": [
            "False\n",
            "True\n",
            "True\n",
            "False\n"
          ],
          "name": "stdout"
        }
      ]
    },
    {
      "cell_type": "markdown",
      "metadata": {
        "id": "c3rboCE2qnFA",
        "colab_type": "text"
      },
      "source": [
        "\n",
        "\n",
        "### P2.PY\n",
        "\n",
        "\n"
      ]
    },
    {
      "cell_type": "code",
      "metadata": {
        "id": "lQGjA1BCqnFB",
        "colab_type": "code",
        "colab": {
          "base_uri": "https://localhost:8080/",
          "height": 85
        },
        "outputId": "ae476ebe-bf8b-44b7-cd49-d5258ef23d27"
      },
      "source": [
        "\"\"\"\n",
        "Weather II - Precipitation\n",
        "\"\"\"\n",
        "\n",
        "# Repeat the same process as p1, using this new set of variables.\n",
        "\n",
        "sunny = True\n",
        "raining = True\n",
        "snowing = False\n",
        "\n",
        "is_it_sunny = sunny\n",
        "is_there_precipitation = raining or snowing\n",
        "is_it_sleeting = raining and snowing\n",
        "is_there_rainbow = sunny and raining\n",
        "\n",
        "print(is_it_sunny)\n",
        "print(is_there_precipitation)\n",
        "print(is_it_sleeting)\n",
        "print(is_there_rainbow)\n"
      ],
      "execution_count": 11,
      "outputs": [
        {
          "output_type": "stream",
          "text": [
            "True\n",
            "True\n",
            "False\n",
            "True\n"
          ],
          "name": "stdout"
        }
      ]
    },
    {
      "cell_type": "markdown",
      "metadata": {
        "id": "PJcMY_LZqnFD",
        "colab_type": "text"
      },
      "source": [
        "\n",
        "\n",
        "### P3.PY\n",
        "\n",
        "\n"
      ]
    },
    {
      "cell_type": "code",
      "metadata": {
        "id": "DtLm4R46qnFE",
        "colab_type": "code",
        "colab": {
          "base_uri": "https://localhost:8080/",
          "height": 85
        },
        "outputId": "b2e7fca5-e8f5-437e-bdeb-3e3ed50893b1"
      },
      "source": [
        "\"\"\"\n",
        "Weather III - Describe Conditions\n",
        "\"\"\"\n",
        "\n",
        "# Repeat the same process as p1, using this new set of variables.\n",
        "\n",
        "\n",
        "is_it_warm = True\n",
        "is_it_humid = True\n",
        "is_it_cold = False\n",
        "is_it_icy = False\n",
        "is_it_foggy = False\n",
        "is_it_windy = False\n",
        "is_it_overcast = True\n",
        "\n",
        "\n",
        "is_it_summer_weather = is_it_warm\n",
        "is_rain_coming = is_it_humid or is_it_overcast\n",
        "is_it_muggy = is_it_humid or is_it_foggy\n",
        "do_i_need_coat = is_it_windy or is_it_icy or is_it_cold\n",
        "\n",
        "print(is_it_summer_weather)\n",
        "print(is_rain_coming)\n",
        "print(is_it_muggy)\n",
        "print(do_i_need_coat)\n"
      ],
      "execution_count": 13,
      "outputs": [
        {
          "output_type": "stream",
          "text": [
            "True\n",
            "True\n",
            "True\n",
            "False\n"
          ],
          "name": "stdout"
        }
      ]
    },
    {
      "cell_type": "markdown",
      "metadata": {
        "id": "pkACRW_0qnFG",
        "colab_type": "text"
      },
      "source": [
        "\n",
        "\n",
        "## LOGIC\n",
        "\n",
        "### P1.PY\n",
        "\n",
        "\n"
      ]
    },
    {
      "cell_type": "code",
      "metadata": {
        "id": "xWO_0ri5qnFH",
        "colab_type": "code",
        "colab": {
          "base_uri": "https://localhost:8080/",
          "height": 34
        },
        "outputId": "51501f23-5811-4471-9e26-3620f0e63ca6"
      },
      "source": [
        "\"\"\"\n",
        "Calculate Grade\n",
        "\"\"\"\n",
        "\n",
        "grade = 90  # expect this to be a number\n",
        "\n",
        "# write a program that will print the \"letter\"\n",
        "# equivalent of the grade, for example:\n",
        "# when grade = 90 # -> expect A\n",
        "# when grade = 80 # -> expect B\n",
        "# when grade = 70 # -> expect C\n",
        "# when grade = 60 # -> expect D\n",
        "# when grade = 54 # -> expect F\n",
        "# when grade = -10 # -> expect Error\n",
        "# when grade = 10000 # -> expect Error\n",
        "# when grade = \"lol skool sucks\" # -> expect Error\n",
        "\n",
        "if 90 <= grade <= 100:\n",
        "  print(\"A\")\n",
        "elif 80 <= grade <= 89:\n",
        "  print(\"B\")\n",
        "elif 70 <= grade <= 79:\n",
        "  print(\"C\")\n",
        "elif 55 <= grade <= 69: \n",
        "  print(\"D\")\n",
        "elif 0 <= grade <= 54: \n",
        "  print(\"F\")\n",
        "else: \n",
        "  print(\"Error\")\n",
        "\n",
        "\n",
        "\n"
      ],
      "execution_count": 36,
      "outputs": [
        {
          "output_type": "stream",
          "text": [
            "A\n"
          ],
          "name": "stdout"
        }
      ]
    },
    {
      "cell_type": "markdown",
      "metadata": {
        "id": "g8tgy97eqnFJ",
        "colab_type": "text"
      },
      "source": [
        "\n",
        "\n",
        "### P2.PY\n",
        "\n",
        "\n"
      ]
    },
    {
      "cell_type": "code",
      "metadata": {
        "id": "uycQr3svqnFK",
        "colab_type": "code",
        "colab": {
          "base_uri": "https://localhost:8080/",
          "height": 34
        },
        "outputId": "398933ad-a2f3-437c-fa3c-0c2124fa00f9"
      },
      "source": [
        "\"\"\"\n",
        "Sign of Product\n",
        "\"\"\"\n",
        "\n",
        "# Given three numbers, a, b, c, without multiplying, determine the sign of their product.\n",
        "\n",
        "# EXAMPLE: a = -5, b = 6, c = -4, print 1\n",
        "\n",
        "# EXAMPLE: a = 5, b = 6, c = -4, print -1\n",
        "\n",
        "a = 1\n",
        "b = 1\n",
        "c = 1\n",
        "\n",
        "if a > 0 and b > 0 and c > 0:\n",
        "  print(1)\n",
        "elif a > 0 and b > 0 and c < 0:\n",
        "  print(-1)\n",
        "elif a > 0 and b < 0 and c < 0:\n",
        "  print(1)\n",
        "elif a > 0 and b < 0 and c > 0:\n",
        "  print(-1)\n",
        "elif a < 0 and b > 0 and c > 0:\n",
        "  print(-1)\n",
        "elif a < 0 and b < 0 and c > 0:\n",
        "  print(1)\n",
        "elif a < 0 and b > 0 and c < 0:\n",
        "  print(1)\n",
        "else: print(-1)\n"
      ],
      "execution_count": 19,
      "outputs": [
        {
          "output_type": "stream",
          "text": [
            "-1\n"
          ],
          "name": "stdout"
        }
      ]
    },
    {
      "cell_type": "markdown",
      "metadata": {
        "id": "GF-VMMnoqnFN",
        "colab_type": "text"
      },
      "source": [
        "\n",
        "\n",
        "### P3.PY\n",
        "\n",
        "\n"
      ]
    },
    {
      "cell_type": "code",
      "metadata": {
        "id": "vzWq25cmqnFP",
        "colab_type": "code",
        "colab": {
          "base_uri": "https://localhost:8080/",
          "height": 34
        },
        "outputId": "ad90b948-3bde-45c5-9a97-0d90b37583a2"
      },
      "source": [
        "\"\"\"\n",
        "Any Uppercase\n",
        "\"\"\"\n",
        "\n",
        "# Given a string str, determine if there are any uppercase values in it. \n",
        "# Use only conditional statements and string methods (you may have to look some up!)\n",
        "\n",
        "# EXAMPLE: str = \"teSt\", print True\n",
        "\n",
        "str = \"hello\"\n",
        "\n",
        "if str.islower() == True:\n",
        "  print(False)\n",
        "else:\n",
        "  print(True)\n",
        "\n"
      ],
      "execution_count": 35,
      "outputs": [
        {
          "output_type": "stream",
          "text": [
            "False\n"
          ],
          "name": "stdout"
        }
      ]
    },
    {
      "cell_type": "markdown",
      "metadata": {
        "id": "arUCQe9CqnFR",
        "colab_type": "text"
      },
      "source": [
        "\n",
        "\n",
        "### P4.PY\n",
        "\n",
        "\n"
      ]
    },
    {
      "cell_type": "code",
      "metadata": {
        "id": "0Zn2Q79zqnFS",
        "colab_type": "code",
        "colab": {
          "base_uri": "https://localhost:8080/",
          "height": 34
        },
        "outputId": "35a85080-0063-45bb-d031-cd984407ad67"
      },
      "source": [
        "\"\"\"\n",
        "Empty Strings\n",
        "\"\"\"\n",
        "\n",
        "# Given any empty string, of the form:\n",
        "\n",
        "# ''\n",
        "# ' '\n",
        "# '  '\n",
        "# any other num of spaces...\n",
        "\n",
        "# determine if the str is empty or not (print True or False). \n",
        "# Hint: You'll need to look up how to remove trailing spaces from a string.\n",
        "\n",
        "my_str = \"      Hi\"\n",
        "\n",
        "my_str.strip() == \"\""
      ],
      "execution_count": 49,
      "outputs": [
        {
          "output_type": "execute_result",
          "data": {
            "text/plain": [
              "False"
            ]
          },
          "metadata": {
            "tags": []
          },
          "execution_count": 49
        }
      ]
    },
    {
      "cell_type": "markdown",
      "metadata": {
        "id": "J8xhbwxFqnFW",
        "colab_type": "text"
      },
      "source": [
        "\n",
        "\n",
        "### P5.PY\n",
        "\n",
        "\n"
      ]
    },
    {
      "cell_type": "code",
      "metadata": {
        "id": "_v2oId5UqnFX",
        "colab_type": "code",
        "colab": {
          "base_uri": "https://localhost:8080/",
          "height": 34
        },
        "outputId": "9dd2bbe5-5a31-412c-cb05-414578ce290f"
      },
      "source": [
        "\"\"\"\n",
        "truthTableEvaluator\n",
        "\"\"\"\n",
        "\n",
        "# Given the following inputs:\n",
        "\n",
        "\n",
        "# P = # True or False\n",
        "# Q = # True or False\n",
        "# op = # '^' (logical AND, conjunction)\n",
        "#      # OR, 'v' (logical OR, disjunction)\n",
        "#      # OR, '->' (logical conditional, implication)\n",
        "#      # OR, '<->' (biconditional)\n",
        "# determine the correct outcome.\n",
        "\n",
        "# https://medium.com/i-math/intro-to-truth-tables-boolean-algebra-73b331dd9b94\n",
        "\n",
        "p = True\n",
        "q = True\n",
        "\n",
        "op = '^'\n",
        "\n",
        "if op == '^':\n",
        "  print(p and q)\n",
        "elif op == 'v':\n",
        "  print(p or q)\n",
        "elif op == '->' or op == '<->':\n",
        "  print(p == q)\n",
        "\n",
        "#not sure what the conditional statements on Python are for the implication or the biconditional\n"
      ],
      "execution_count": 63,
      "outputs": [
        {
          "output_type": "stream",
          "text": [
            "True\n"
          ],
          "name": "stdout"
        }
      ]
    },
    {
      "cell_type": "markdown",
      "metadata": {
        "id": "TAWjD-HbqnFc",
        "colab_type": "text"
      },
      "source": [
        "\n",
        "\n",
        "## RANDOM_NUMS\n",
        "\n",
        "### P1.PY\n",
        "\n",
        "\n"
      ]
    },
    {
      "cell_type": "code",
      "metadata": {
        "id": "Fizsxc0WqnFc",
        "colab_type": "code",
        "colab": {
          "base_uri": "https://localhost:8080/",
          "height": 34
        },
        "outputId": "4da9d349-ff94-4e9a-f0ef-28bf3030c7b9"
      },
      "source": [
        "\"\"\"\n",
        "Generate Traffic Light\n",
        "\"\"\"\n",
        "\n",
        "# import python random package\n",
        "\n",
        "\n",
        "# generates a random number from 1 to 3\n",
        "\n",
        "\n",
        "# if 1, print 'red'\n",
        "# if 2, print 'green',\n",
        "# if 3, print 'yellow'\n",
        "\n",
        "import random\n",
        "\n",
        "x = random.randint(1,3)\n",
        "\n",
        "if x == 1:\n",
        "  print('red')\n",
        "elif x == 2:\n",
        "  print('green')\n",
        "else:\n",
        "  print('yellow')"
      ],
      "execution_count": 68,
      "outputs": [
        {
          "output_type": "stream",
          "text": [
            "yellow\n"
          ],
          "name": "stdout"
        }
      ]
    },
    {
      "cell_type": "markdown",
      "metadata": {
        "id": "IKvSSXkSqnFf",
        "colab_type": "text"
      },
      "source": [
        "\n",
        "\n",
        "### P2.PY\n",
        "\n",
        "\n"
      ]
    },
    {
      "cell_type": "code",
      "metadata": {
        "id": "zz42pcKOqnFf",
        "colab_type": "code",
        "colab": {
          "base_uri": "https://localhost:8080/",
          "height": 34
        },
        "outputId": "b0aed1b7-ee46-43d2-fff4-01cc8cf47749"
      },
      "source": [
        "\"\"\"\n",
        "Generate Phone Number w/Area Code\n",
        "\"\"\"\n",
        "\n",
        "# import python random package\n",
        "\n",
        "\n",
        "# generate a random phone number of the form:\n",
        "# 1-718-786-2825\n",
        "# This should be a string\n",
        "# Valid Area Codes are: 646, 718, 212\n",
        "# if phone number doesn't have [646, 718, 212]\n",
        "# as area code, pick one of the above at random\n",
        "\n",
        "\n",
        "\n",
        "\n",
        "\n",
        "\n",
        "from random import randint\n",
        "\n",
        "c = '1'\n",
        "area= [\"646\", \"718\", \"212\"]\n",
        "first = randint(000,999)\n",
        "second = randint(0000,9999)\n",
        "\n",
        "intro = country + '-' + random.choice(area_code)\n",
        "print(f'{intro}-{first}-{second}')\n",
        "\n",
        "# couldn't figure out how to convert first and second variables to string. \n",
        "#Tried using str() but get error message saying 'str object is not callable'"
      ],
      "execution_count": 153,
      "outputs": [
        {
          "output_type": "stream",
          "text": [
            "1-718-669-6038\n"
          ],
          "name": "stdout"
        }
      ]
    },
    {
      "cell_type": "markdown",
      "metadata": {
        "id": "U9SUuzCrqnFh",
        "colab_type": "text"
      },
      "source": [
        "\n"
      ]
    }
  ]
}